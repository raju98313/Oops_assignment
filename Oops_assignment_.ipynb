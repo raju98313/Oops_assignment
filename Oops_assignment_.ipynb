{
  "nbformat": 4,
  "nbformat_minor": 0,
  "metadata": {
    "colab": {
      "provenance": []
    },
    "kernelspec": {
      "name": "python3",
      "display_name": "Python 3"
    },
    "language_info": {
      "name": "python"
    }
  },
  "cells": [
    {
      "cell_type": "markdown",
      "source": [
        "#Theory OoPs Questions\n",
        "\n",
        "\n",
        "\n"
      ],
      "metadata": {
        "id": "Xy8hAjNuMYph"
      }
    },
    {
      "cell_type": "markdown",
      "source": [
        "#Q1.MH What is Object-Oriented Programming (OOP)?\n",
        "\n",
        "#Ans.\n",
        "\n",
        "**Answer:**\n",
        "Object-Oriented Programming (OOP) is a programming paradigm based on the concept of \"objects,\" which can contain **data** (in the form of fields or attributes) and **code** (in the form of methods or functions). It allows developers to structure software in a way that models real-world entities.\n",
        "\n",
        "The **four main principles of OOP** are:\n",
        "\n",
        "1. **Encapsulation** – Bundling data and methods that operate on that data within one unit (object), and restricting direct access to some of the object's components.\n",
        "2. **Abstraction** – Hiding complex implementation details and showing only the necessary features.\n",
        "3. **Inheritance** – Allowing a new class to inherit the properties and behaviors of an existing class.\n",
        "4. **Polymorphism** – Allowing objects to be treated as instances of their parent class rather than their actual class, enabling one interface to be used for different underlying forms (data types).\n",
        "\n",
        "OOP helps in making code more modular, reusable, and easier to maintain.\n",
        "\n",
        "\n"
      ],
      "metadata": {
        "id": "LeGMOKmrMlBt"
      }
    },
    {
      "cell_type": "markdown",
      "source": [
        "#Q2.What is a class in OOP?\n",
        "\n",
        "#Ans.\n",
        "\n",
        "**Answer:**\n",
        "A **class** in Object-Oriented Programming (OOP) is a **blueprint or template** for creating objects. It defines a set of **attributes (data)** and **methods (functions)** that the created objects (called **instances**) will have.\n",
        "\n",
        "Think of a class as a **design** for a house, and objects as the **actual houses** built from that design.\n",
        "\n",
        "Here:\n",
        "\n",
        "* `Car` is the class.\n",
        "* `brand` and `model` are attributes.\n",
        "* `drive()` is a method.\n",
        "* You can create objects from this class like:\n",
        "  `my_car = Car(\"Toyota\", \"Corolla\")`\n",
        "\n",
        "Would you like to go deeper into objects next?\n",
        "\n"
      ],
      "metadata": {
        "id": "t-UsGGbgPDoS"
      }
    },
    {
      "cell_type": "markdown",
      "source": [
        "#Q3. What is an object in OOP?\n",
        "\n",
        "#Ans.\n",
        "\n",
        "**Answer:**\n",
        "An **object** in Object-Oriented Programming (OOP) is an **instance of a class**. It is a **real-world entity** created using the structure defined by a class. Each object has its own set of **attributes (data)** and **methods (behaviors)**.\n",
        "\n",
        "### Key Points:\n",
        "\n",
        "* A class is like a blueprint; an object is the actual product.\n",
        "* Multiple objects can be created from the same class, each with different data.\n",
        "\n",
        "\n",
        "Here, `car1` and `car2` are **objects** of the class `Car`.\n",
        "\n",
        "\n",
        "\n"
      ],
      "metadata": {
        "id": "WAQMytvgP4Eo"
      }
    },
    {
      "cell_type": "markdown",
      "source": [
        "#Q4.What is the difference between abstraction and encapsulation?\n",
        "\n",
        "#Ans.\n",
        "\n",
        "| **Aspect**      | **Abstraction**                                                | **Encapsulation**                                                                  |\n",
        "| --------------- | -------------------------------------------------------------- | ---------------------------------------------------------------------------------- |\n",
        "| **Definition**  | Hiding unnecessary details and showing only essential features | Bundling data and methods into a single unit (class) and restricting direct access |\n",
        "| **Purpose**     | To **reduce complexity** and focus on what an object does      | To **protect data** and control how it is accessed or modified                     |\n",
        "| **Focus**       | On **what** to do                                              | On **how** to do it                                                                |\n",
        "| **Achieved by** | Using **abstract classes** and **interfaces**                  | Using **access modifiers** (like private, public, protected)                       |\n",
        "| **Example**     | Driving a car without knowing how the engine works             | Keeping the engine components hidden and secure inside the car                     |\n",
        "\n",
        "In short:\n",
        "Abstraction hides implementation details.\n",
        "\n",
        "Encapsulation hides data and ensures controlled access.\n",
        "\n",
        "\n"
      ],
      "metadata": {
        "id": "By_vWpUpQ708"
      }
    },
    {
      "cell_type": "markdown",
      "source": [
        "#Q5.What are dunder methods in Python?\n",
        "\n",
        "\n",
        "**Answer:**\n",
        "\n",
        "Dunder methods (short for **“double underscore” methods**), also known as **magic methods** or **special methods**, are predefined methods in Python that have double underscores **before and after their names** (e.g., `__init__`, `__str__`, `__len__`).\n",
        "\n",
        "They are used to **define the behavior of objects** for various built-in operations, such as object initialization, string representation, arithmetic operations, and comparisons. Python internally calls these methods in response to certain operations, allowing you to **customize how your objects behave** with standard Python syntax.\n"
      ],
      "metadata": {
        "id": "5DY5L5NdRrPF"
      }
    },
    {
      "cell_type": "markdown",
      "source": [
        "#Q6. Explain the concept of inheritance in OOP.\n",
        "\n",
        "\n",
        "\n",
        "**Answer:**\n",
        "\n",
        "**Inheritance** is a fundamental concept in Object-Oriented Programming (OOP) that allows a **class (called a child or subclass)** to **inherit properties and behaviors** (attributes and methods) from another class (called a parent or superclass).\n",
        "\n",
        "It promotes **code reusability** and establishes a **\"is-a\" relationship** between classes.\n",
        "\n",
        "### Key Points:\n",
        "\n",
        "* The child class can **use**, **extend**, or **override** the functionality of the parent class.\n",
        "* Inheritance allows you to build **hierarchies of classes** and **reduce redundancy**.\n",
        "* Most OOP languages support **single**, **multiple**, **multilevel**, or **hierarchical inheritance** (depending on the language).\n",
        "\n",
        "In short, inheritance makes it easier to **create new classes** based on existing ones, improving maintainability and scalability.\n"
      ],
      "metadata": {
        "id": "2vHgLX4WSvBJ"
      }
    },
    {
      "cell_type": "markdown",
      "source": [
        "\n",
        "\n",
        "**Answer:**\n",
        "\n",
        "**Encapsulation** in Python is achieved by **restricting access to certain components** of a class, primarily through the use of **access modifiers**. This ensures that the **internal state of an object is hidden** from the outside and can only be accessed or modified in **controlled ways**.\n",
        "\n",
        "### How it’s done in Python:\n",
        "\n",
        "1. **Public Members**:\n",
        "\n",
        "   * No underscore prefix.\n",
        "   * Accessible from anywhere.\n",
        "   * Example: `self.name`\n",
        "\n",
        "2. **Protected Members**:\n",
        "\n",
        "   * Single underscore prefix (`_`).\n",
        "   * Intended to be accessed **within the class and its subclasses**, but **not strictly enforced**.\n",
        "   * Example: `self._salary`\n",
        "\n",
        "3. **Private Members**:\n",
        "\n",
        "   * Double underscore prefix (`__`).\n",
        "   * Name mangled to prevent direct access from outside the class.\n",
        "   * Example: `self.__password`\n",
        "\n",
        "Encapsulation is further enforced by using **getter and setter methods** to access or update private data safely.\n",
        "\n",
        "\n"
      ],
      "metadata": {
        "id": "-X2F7ypTT_ng"
      }
    },
    {
      "cell_type": "markdown",
      "source": [
        "\n",
        "**Answer:**\n",
        "\n",
        "**Polymorphism** is a core concept in Object-Oriented Programming (OOP) that allows **objects of different classes to be treated as objects of a common superclass**. It means **“many forms”**, and it enables the **same interface or method name** to behave differently depending on the object that invokes it.\n",
        "\n",
        "### Key Points:\n",
        "\n",
        "* It allows **method overriding** (same method name with different behavior in subclass).\n",
        "* It also supports **method overloading** (same method name with different parameters), though Python handles it differently than some other languages.\n",
        "* Polymorphism improves **flexibility** and **extensibility** in code.\n",
        "\n",
        "In essence, polymorphism allows you to **write general code** that works with objects of different types, as long as they implement the expected behavior.\n",
        "\n"
      ],
      "metadata": {
        "id": "ZitfNfANTZn2"
      }
    },
    {
      "cell_type": "markdown",
      "source": [
        "#Q9. What is a constructor in Python?\n",
        "\n",
        "\n",
        "\n",
        "**Answer:**\n",
        "\n",
        "A **constructor** in Python is a **special method** used to **initialize a newly created object** of a class. It is automatically called when an object is created and is typically used to assign values to the object’s attributes.\n",
        "\n",
        "In Python, the constructor method is named **`__init__()`**.\n",
        "\n",
        "### Key Points:\n",
        "\n",
        "* `__init__()` is automatically executed when an object is instantiated.\n",
        "* It allows setting up **initial state** (like assigning default or user-provided values).\n",
        "* It takes `self` as the first parameter, followed by any other initialization parameters.\n",
        "\n",
        "In short, the constructor prepares the object for use immediately after it is created.\n",
        "\n"
      ],
      "metadata": {
        "id": "e_6V4sO1UeUe"
      }
    },
    {
      "cell_type": "markdown",
      "source": [
        "#Q10.What are class and static methods in Python?\n",
        "\n",
        "\n",
        "\n",
        "**Answer:**\n",
        "\n",
        "In Python, **class methods** and **static methods** are both methods that belong to the class rather than the instance. However, they differ in how they interact with the class and instance data.\n",
        "\n",
        "### 1. **Class Method**:\n",
        "\n",
        "* A **class method** is a method that is bound to the class and not the instance. It takes **`cls`** as its first argument (which refers to the class itself) rather than `self`.\n",
        "* Class methods are often used to modify class-level attributes or provide alternate constructors.\n",
        "\n",
        "### 2. **Static Method**:\n",
        "\n",
        "* A **static method** does not take `self` or `cls` as its first argument. It is not bound to the instance or the class.\n",
        "* Static methods cannot modify class or instance attributes, but they can perform operations related to the class without needing access to its state.\n",
        "\n",
        "In summary:\n",
        "\n",
        "* **Class methods** operate on the class itself and can modify its state.\n",
        "* **Static methods** are independent and don’t interact with the instance or class directly.\n"
      ],
      "metadata": {
        "id": "9ipkLWXPVje2"
      }
    },
    {
      "cell_type": "markdown",
      "source": [
        "#Q11. What is method overloading in Python?\n",
        "\n",
        "\n",
        "\n",
        "**Answer:**\n",
        "\n",
        "**Method overloading** refers to the ability to define multiple methods with the **same name** but different **parameter lists**. However, unlike some other languages (like Java or C++), Python does not natively support **method overloading** in the traditional sense, where you can define multiple methods with the same name but different argument types or counts.\n",
        "\n",
        "### In Python:\n",
        "\n",
        "* Python does **not support true method overloading**.\n",
        "* If you define multiple methods with the same name, the last definition will **override** the previous ones.\n",
        "\n",
        "### Workaround:\n",
        "\n",
        "* You can achieve method overloading-like behavior using **default arguments**, **variable-length arguments (`*args` and `**kwargs`)**, or by manually checking the types or number of arguments within the method.\n",
        "\n",
        "For example, by using default arguments or variable-length arguments, you can mimic overloading in Python.\n"
      ],
      "metadata": {
        "id": "5xo2vlkKV2K8"
      }
    },
    {
      "cell_type": "markdown",
      "source": [
        "#Q12.What is method overriding in OOP?\n",
        "\n",
        "\n",
        "\n",
        "**Answer:**\n",
        "\n",
        "**Method overriding** in Object-Oriented Programming (OOP) occurs when a **subclass** provides its own **specific implementation** of a method that is already defined in its **parent class**. This allows the subclass to **redefine the behavior** of the inherited method.\n",
        "\n",
        "### Key Points:\n",
        "\n",
        "* The method in the subclass must have the **same name** and **signature** as the method in the parent class.\n",
        "* Method overriding is used to provide **specialized behavior** in the subclass while still retaining the same method interface as the parent class.\n",
        "\n",
        "Method overriding is an essential feature for **polymorphism**, as it enables a subclass to define its specific behavior for inherited methods, while the parent class may provide a more general implementation.\n",
        "\n"
      ],
      "metadata": {
        "id": "Anq5ZLH8WW5U"
      }
    },
    {
      "cell_type": "markdown",
      "source": [
        "#Q13.What is a property decorator in Python?\n",
        "\n",
        "\n",
        "\n",
        "**Answer:**\n",
        "\n",
        "In Python, the **`@property` decorator** is used to **define a method as a property**. A property allows you to define a method that can be accessed like an attribute, without explicitly calling it as a method (i.e., without using parentheses `()`).\n",
        "\n",
        "It is typically used to **control access** to instance attributes and allows you to add logic to get, set, or delete an attribute value while maintaining the syntax of attribute access.\n",
        "\n",
        "### Key Points:\n",
        "\n",
        "* The `@property` decorator allows a method to act like an **attribute**.\n",
        "* It enables you to add **getter** functionality to an attribute without directly exposing it.\n",
        "* You can also use **`@<property_name>.setter`** and **`@<property_name>.deleter`** decorators to define methods for setting or deleting the property.\n",
        "\n",
        "### Example of using `@property`:\n",
        "\n",
        "* A getter method is created, which is accessed like an attribute.\n",
        "* A setter can be defined to control how the attribute is modified.\n",
        "\n",
        "In essence, the `@property` decorator makes it possible to **encapsulate data** and provide controlled access while keeping the syntax simple and intuitive.\n"
      ],
      "metadata": {
        "id": "OimYnwsuW2YS"
      }
    },
    {
      "cell_type": "markdown",
      "source": [
        "#Q14.Why is polymorphism important in OOP?\n",
        "\n",
        "\n",
        "**Answer:**\n",
        "\n",
        "Polymorphism is a fundamental concept in Object-Oriented Programming (OOP) that allows objects of different classes to be treated as objects of a common superclass. It enables the **same method** or operation to behave differently depending on the type of object that is calling it. This is important in OOP for several reasons:\n",
        "\n",
        "### 1. **Code Reusability and Flexibility**:\n",
        "\n",
        "* Polymorphism allows you to write **generalized code** that works with different types of objects, without needing to know the specific class of the objects.\n",
        "* This **reduces redundancy** and makes the code more flexible. For example, you can create a function that works with any object that implements a specific method, regardless of the class it belongs to.\n",
        "\n",
        "### 2. **Extensibility**:\n",
        "\n",
        "* With polymorphism, you can easily **extend** existing systems. New subclasses can be added without modifying the existing code that relies on polymorphism.\n",
        "* It supports **open/closed principle** in OOP, where the code is open for extension but closed for modification.\n",
        "\n",
        "### 3. **Simplifies Maintenance**:\n",
        "\n",
        "* Polymorphism allows for easier maintenance and updates. You can change the implementation of a method in a subclass without affecting the rest of the program that uses polymorphic behavior.\n",
        "* It encourages **decoupling** of code, leading to cleaner and more maintainable systems.\n",
        "\n",
        "### 4. **Supports Dynamic Method Resolution**:\n",
        "\n",
        "* Polymorphism enables **dynamic method binding** (or late binding), meaning the method that is invoked is determined at runtime based on the object type, rather than compile-time. This adds more **dynamic behavior** to programs and allows for more flexible and adaptive systems.\n",
        "\n",
        "In summary, polymorphism enhances **code readability**, **extensibility**, **flexibility**, and **maintenance**, making it one of the most powerful features of OOP. It facilitates **dynamic behavior** in programs, which is crucial for building scalable and robust systems.\n",
        "\n"
      ],
      "metadata": {
        "id": "qgQoqbCtVN9m"
      }
    },
    {
      "cell_type": "markdown",
      "source": [
        "#Q15.What is an abstract class in Python?\n",
        "\n",
        "\n",
        "\n",
        "**Answer:**\n",
        "\n",
        "An **abstract class** in Python is a class that cannot be instantiated directly. It serves as a **blueprint for other classes** and is typically used to define methods that must be implemented in the derived (subclass) classes. The abstract class can contain both **abstract methods** (methods without implementation) and **concrete methods** (methods with implementation).\n",
        "\n",
        "### Key Points:\n",
        "\n",
        "1. **Abstract Methods**:\n",
        "\n",
        "   * These are methods that are **declared but not implemented** in the abstract class. They must be implemented by any subclass that inherits from the abstract class.\n",
        "\n",
        "2. **`abc` Module**:\n",
        "\n",
        "   * Python provides the `abc` module (Abstract Base Class) to define abstract classes.\n",
        "\n",
        "3. **Cannot Instantiate**:\n",
        "\n",
        "   * You **cannot create an instance** of an abstract class directly. It is meant to be subclassed, and its abstract methods should be implemented in those subclasses.\n",
        "\n",
        "4. **Purpose**:\n",
        "\n",
        "   * Abstract classes are used to **define a common interface** for different subclasses. This allows you to ensure that subclasses will implement certain methods while also allowing for shared functionality.\n",
        "\n",
        "### Creating an Abstract Class:\n",
        "\n",
        "* You use the **`ABC`** class as a base, and define abstract methods using the **`@abstractmethod`** decorator.\n",
        "   \n",
        "\n",
        "### Why Use Abstract Classes?\n",
        "\n",
        "* Abstract classes ensure that the derived classes implement certain methods, providing a **consistent interface**.\n",
        "* They enforce **design contracts** in larger systems, ensuring that subclasses adhere to the required structure.\n",
        "\n"
      ],
      "metadata": {
        "id": "BY73VBq3XqJe"
      }
    },
    {
      "cell_type": "markdown",
      "source": [
        "#Q16.What are the advantages of OOP?\n",
        "\n",
        "\n",
        "\n",
        "**Answer:**\n",
        "\n",
        "Object-Oriented Programming (OOP) provides several advantages that enhance software development, making it more organized, scalable, and maintainable. Here are the key advantages of OOP:\n",
        "\n",
        "### 1. **Modularity**:\n",
        "\n",
        "* OOP allows you to break down a program into smaller, manageable pieces (objects or classes). Each object can be developed, tested, and debugged independently.\n",
        "* This modularity improves **code organization** and makes it easier to manage complex systems.\n",
        "\n",
        "### 2. **Reusability**:\n",
        "\n",
        "* Once a class is defined, it can be reused across different parts of the application or even in other applications.\n",
        "* Inheritance allows for creating new classes based on existing ones, facilitating **code reuse** without repeating code.\n",
        "\n",
        "### 3. **Maintainability**:\n",
        "\n",
        "* OOP's structure helps in **maintaining and updating** software. When a change is required, it is often localized to a specific object or class, reducing the risk of breaking the entire system.\n",
        "* Changes in one part of the code do not affect other parts, making the system more **robust**.\n",
        "\n",
        "### 4. **Encapsulation**:\n",
        "\n",
        "* OOP provides a way to **hide the internal details** of an object (data and implementation) and only expose the necessary functionality. This ensures that the object's state is controlled and prevents unintended interference.\n",
        "* It also provides **data protection** through access modifiers (e.g., private and protected).\n",
        "\n",
        "### 5. **Abstraction**:\n",
        "\n",
        "* OOP allows you to **abstract complex implementation details** and expose only the relevant aspects of an object’s functionality.\n",
        "* It simplifies interaction with complex systems by exposing only the necessary functionality.\n",
        "\n",
        "### 6. **Flexibility Through Polymorphism**:\n",
        "\n",
        "* Polymorphism allows you to **use a single interface** to represent different underlying forms of objects, making code more flexible and adaptable to changes.\n",
        "* It enables **dynamic method resolution** and simplifies extending code with new features.\n",
        "\n",
        "### 7. **Inheritance**:\n",
        "\n",
        "* OOP enables **code reuse and extension** through inheritance. Subclasses can inherit properties and methods from parent classes, allowing for **specialized behavior** without rewriting common logic.\n",
        "* Inheritance supports the **creation of hierarchies** and allows for more organized and manageable code.\n",
        "\n",
        "### 8. **Scalability**:\n",
        "\n",
        "* OOP is well-suited for **large-scale systems** because it naturally supports the growth of applications. New features and components can be added by creating new classes or extending existing ones.\n",
        "* It helps in organizing complex systems and scaling them efficiently over time.\n",
        "\n",
        "### 9. **Improved Collaboration**:\n",
        "\n",
        "* OOP promotes **teamwork** by allowing different team members to work on different modules (objects) independently.\n",
        "* Developers can work on various parts of the application without affecting each other’s work, making it easier to collaborate in large projects.\n",
        "\n",
        "### 10. **Easier Debugging and Testing**:\n",
        "\n",
        "* Since objects are isolated, it becomes easier to **test individual components**. You can test each object in isolation before integrating them into the larger system.\n",
        "* The structure of OOP makes it easier to locate bugs and fix them, improving overall **debugging** efficiency.\n",
        "\n",
        "In summary, OOP enhances **organization**, **maintainability**, and **scalability**, while supporting **reusability** and **flexibility** in code development. It is a powerful paradigm that is widely used in modern software development.\n"
      ],
      "metadata": {
        "id": "ts5lNeOJZSXY"
      }
    },
    {
      "cell_type": "markdown",
      "source": [
        "#Q17.What is the difference between a class variable and an instance variable?\n",
        "\n",
        "**What is the difference between a class variable and an instance variable?**\n",
        "\n",
        "**Answer:**\n",
        "\n",
        "In Python, class variables and instance variables are both used to store data associated with a class or its objects, but they differ in terms of scope, usage, and how they are accessed.\n",
        "\n",
        "### 1. **Class Variable**:\n",
        "\n",
        "* **Definition**: A class variable is shared by all instances of the class. It is defined inside the class but outside any instance methods.\n",
        "* **Scope**: Class variables are **shared across all instances** of the class.\n",
        "* **Access**: Class variables can be accessed using the class name or through an instance, but they typically are accessed via the class name.\n",
        "* **Use case**: They are used to store values that are **common to all instances** of the class.\n",
        "\n",
        "### 2. **Instance Variable**:\n",
        "\n",
        "* **Definition**: An instance variable is specific to an **individual object** (instance) of the class. It is defined within the **`__init__()`** method using `self`.\n",
        "* **Scope**: Instance variables are **unique to each instance** of the class.\n",
        "* **Access**: Instance variables are accessed through the instance (e.g., `object.attribute`).\n",
        "* **Use case**: They are used to store data that is specific to **each individual object**.\n",
        "\n",
        "\n",
        "### Key Differences:\n",
        "\n",
        "| **Aspect**      | **Class Variable**                           | **Instance Variable**                               |\n",
        "| --------------- | -------------------------------------------- | --------------------------------------------------- |\n",
        "| **Scope**       | Shared among all instances of the class      | Specific to each instance of the class              |\n",
        "| **Defined in**  | Defined within the class, outside of methods | Defined inside the `__init__()` method using `self` |\n",
        "| **Accessed by** | Class name or instance                       | Only through the instance                           |\n",
        "| **Lifetime**    | Exists as long as the class exists           | Exists as long as the object exists                 |\n",
        "| **Use case**    | For data common to all instances             | For data specific to each instance                  |\n",
        "\n",
        "In short, **class variables** store shared data among all instances of a class, while **instance variables** store data specific to each individual object created from that class.\n"
      ],
      "metadata": {
        "id": "G2szEmKraFr-"
      }
    },
    {
      "cell_type": "markdown",
      "source": [
        "#Q18.What is multiple inheritance in Python?\n",
        "\n",
        "\n",
        "\n",
        "**Answer:**\n",
        "\n",
        "Multiple inheritance in Python is a feature that allows a class to **inherit from more than one parent class**. This means the derived class gains access to the attributes and methods of **all the parent classes**.\n",
        "\n",
        "### Key Points:\n",
        "\n",
        "* It enables a subclass to combine and reuse functionality from multiple classes.\n",
        "* Python supports multiple inheritance directly, unlike some other programming languages.\n",
        "* When methods or attributes with the **same name** exist in multiple parent classes, Python uses the **Method Resolution Order (MRO)** to determine which one to execute.\n",
        "* Multiple inheritance should be used carefully to avoid confusion and ambiguity, especially in cases where parent classes have overlapping features.\n",
        "\n",
        "In summary, multiple inheritance allows a class to inherit and combine features from multiple sources, enhancing flexibility and code reuse.\n"
      ],
      "metadata": {
        "id": "yWs7PJSRbAB2"
      }
    },
    {
      "cell_type": "markdown",
      "source": [
        "#Q19.Explain the purpose of __str__ and __repr__ methods in Python.\n",
        "\n",
        "\n",
        "**Answer:**\n",
        "\n",
        "In Python, the `__str__` and `__repr__` methods are special methods used to define how an object should be **represented as a string**. They are automatically called when you try to convert an object to a string or when you print it.\n",
        "\n",
        "---\n",
        "\n",
        "### **`__str__` Method:**\n",
        "\n",
        "* The `__str__` method is meant to return a **user-friendly** and **readable** string representation of the object.\n",
        "* It is called by the built-in `str()` function and the `print()` function.\n",
        "* The main purpose of `__str__` is to display information in a format that is easy to understand for **end users**.\n",
        "\n",
        "---\n",
        "\n",
        "### **`__repr__` Method:**\n",
        "\n",
        "* The `__repr__` method is intended to return an **unambiguous** and **developer-friendly** representation of the object.\n",
        "* It is called by the built-in `repr()` function and when you inspect an object in the Python interpreter.\n",
        "* Ideally, the string returned by `__repr__` should be a **valid Python expression** that could be used to recreate the object.\n",
        "\n",
        "---\n",
        "\n",
        "### **Key Difference:**\n",
        "\n",
        "| Aspect            | `__str__`                               | `__repr__`                         |\n",
        "| ----------------- | --------------------------------------- | ---------------------------------- |\n",
        "| Purpose           | User-readable output                    | Developer/debugging representation |\n",
        "| Called by         | `str()`, `print()`                      | `repr()`, Python interpreter       |\n",
        "| Output style      | Informal, readable                      | Formal, unambiguous                |\n",
        "| Fallback behavior | Falls back to `__repr__` if not defined | No fallback to `__str__`           |\n",
        "\n",
        "In short:\n",
        "\n",
        "* Use `__str__` for display to **users**.\n",
        "* Use `__repr__` for **debugging and development**.\n"
      ],
      "metadata": {
        "id": "CFwtF3Y7bh5T"
      }
    },
    {
      "cell_type": "markdown",
      "source": [
        "#Q20.What is the significance of the super() function in Python?\n",
        "\n",
        "\n",
        "\n",
        "**Answer:**\n",
        "\n",
        "The `super()` function in Python is used to **call methods or access properties from a parent (or superclass)** in a child (or subclass). It plays a key role in object-oriented programming, especially when dealing with **inheritance**.\n",
        "\n",
        "---\n",
        "\n",
        "### **Significance of `super()`**:\n",
        "\n",
        "1. **Access Parent Class Methods**:\n",
        "\n",
        "   * It allows the child class to call methods (including `__init__`) from its parent class without explicitly naming the parent.\n",
        "\n",
        "2. **Improves Code Maintainability**:\n",
        "\n",
        "   * Using `super()` makes your code easier to modify. If the parent class name changes, you don’t need to update every reference to it.\n",
        "\n",
        "3. **Supports Multiple Inheritance**:\n",
        "\n",
        "   * In complex class hierarchies, `super()` respects the **Method Resolution Order (MRO)**, ensuring that the correct method is called from the proper class in the hierarchy.\n",
        "\n",
        "4. **Avoids Redundancy**:\n",
        "\n",
        "   * Prevents code duplication by enabling reuse of code from the superclass.\n",
        "\n",
        "5. **Enhances Flexibility**:\n",
        "\n",
        "   * Promotes the use of dynamic and cooperative class hierarchies, which is important in advanced programming patterns.\n",
        "\n",
        "---\n",
        "\n",
        "### Summary:\n",
        "\n",
        "The `super()` function is essential for writing **clean, efficient, and scalable** object-oriented code. It enables **safe and maintainable method overriding**, especially when working with **inheritance and multiple inheritance**.\n"
      ],
      "metadata": {
        "id": "_5KqK5xLcC-v"
      }
    },
    {
      "cell_type": "markdown",
      "source": [
        "#Q21.What is the significance of the __del__ method in Python?\n",
        "\n",
        "**Answer:**\n",
        "\n",
        "The `__del__` method in Python is a **special (dunder) method** called a **destructor**. It is automatically invoked when an object is **about to be destroyed**, i.e., when there are **no more references** to the object and it is **garbage collected**.\n",
        "\n",
        "---\n",
        "\n",
        "### **Significance of `__del__`:**\n",
        "\n",
        "1. **Resource Cleanup**:\n",
        "   It is used to **release external resources** held by the object, such as closing files, network connections, or releasing memory manually.\n",
        "\n",
        "2. **Finalization Logic**:\n",
        "   It allows you to define **custom cleanup actions** that should occur when an object is no longer needed.\n",
        "\n",
        "3. **Garbage Collection Hook**:\n",
        "   It serves as a hook for Python’s garbage collector to **notify the object** just before it's destroyed.\n",
        "\n",
        "---\n",
        "\n",
        "### **Important Considerations**:\n",
        "\n",
        "* The exact time when `__del__` is called is **not guaranteed**, because it's determined by the garbage collector.\n",
        "* Improper use of `__del__` can **delay object destruction**, especially if it creates circular references.\n",
        "* If an error occurs inside `__del__`, it is **ignored silently**, so debugging issues in destructors can be difficult.\n",
        "* It's usually better to manage resources explicitly using context managers (`with` statement) instead of relying solely on `__del__`.\n",
        "\n",
        "---\n",
        "\n",
        "### Summary:\n",
        "\n",
        "The `__del__` method is used to define **cleanup behavior** for objects just before they are destroyed, but it should be used **cautiously and sparingly** due to its unpredictable timing and complexity in memory management.\n"
      ],
      "metadata": {
        "id": "eycn2s_gcsbR"
      }
    },
    {
      "cell_type": "markdown",
      "source": [
        "#Q22.What is the difference between @staticmethod and @classmethod in Python?\n",
        "\n",
        "\n",
        "**Answer:**\n",
        "\n",
        "In Python, both `@staticmethod` and `@classmethod` are decorators used to define **methods that are not regular instance methods**, but they serve **different purposes** and behave differently.\n",
        "\n",
        "---\n",
        "\n",
        "### **1. `@staticmethod`**\n",
        "\n",
        "* A static method **does not take any reference to the class or instance** as its first argument.\n",
        "* It behaves like a **regular function** but belongs to the class's namespace.\n",
        "* Used when the method **does not need access to class or instance-specific data**.\n",
        "\n",
        "#### Characteristics:\n",
        "\n",
        "* No `self` or `cls` parameter.\n",
        "* Cannot modify class or instance state.\n",
        "* Called using either the class name or instance.\n",
        "\n",
        "---\n",
        "\n",
        "### **2. `@classmethod`**\n",
        "\n",
        "* A class method **takes the class itself as the first argument**, usually named `cls`.\n",
        "* It can **access and modify class-level data**.\n",
        "* Useful for **factory methods** or when behavior should depend on the class, not instance.\n",
        "\n",
        "#### Characteristics:\n",
        "\n",
        "* First parameter is `cls`.\n",
        "* Can access and modify class variables.\n",
        "* Can be called on the class or its instances.\n",
        "\n",
        "---\n",
        "\n",
        "### **Key Differences Summary:**\n",
        "\n",
        "| Feature                 | `@staticmethod`          | `@classmethod`                          |\n",
        "| ----------------------- | ------------------------ | --------------------------------------- |\n",
        "| First parameter         | None                     | `cls` (class reference)                 |\n",
        "| Access to class data    | No                       | Yes                                     |\n",
        "| Access to instance data | No                       | No                                      |\n",
        "| Use case                | Utility/helper functions | Factory methods or class-specific logic |\n",
        "\n",
        "---\n",
        "\n",
        "### In Short:\n",
        "\n",
        "* Use `@staticmethod` when the method **doesn't need access to the class or instance**.\n",
        "* Use `@classmethod` when the method **needs to interact with the class**, especially in **inheritance-aware** logic.\n"
      ],
      "metadata": {
        "id": "r6Gis4eydc4f"
      }
    },
    {
      "cell_type": "markdown",
      "source": [
        "#Q23.How does polymorphism work in Python with inheritance?\n",
        "\n",
        "**Answer:**\n",
        "\n",
        "In Python, **polymorphism** allows objects of different classes to be treated as if they were objects of the same superclass. When used with **inheritance**, it enables a **single interface** to represent different underlying data types or behaviors.\n",
        "\n",
        "---\n",
        "\n",
        "### **How it works:**\n",
        "\n",
        "1. **Inheritance provides a common base class**:\n",
        "   Multiple classes can inherit from the same parent class, ensuring they share some common methods or interfaces.\n",
        "\n",
        "2. **Overriding methods in child classes**:\n",
        "   Each subclass can provide its **own implementation** of methods defined in the base class.\n",
        "\n",
        "3. **Polymorphic behavior**:\n",
        "   When calling a method on an object, Python will automatically **choose the correct method** based on the **actual class** of the object — not the reference type. This is called **dynamic dispatch**.\n",
        "\n",
        "---\n",
        "\n",
        "### **Why it's useful:**\n",
        "\n",
        "* Allows **flexibility** and **extensibility** in code.\n",
        "* You can write functions or loops that **work with objects of different types**, as long as they follow the expected interface.\n",
        "* Helps in building **clean and maintainable** object-oriented systems.\n",
        "\n",
        "---\n",
        "\n",
        "### **Example Scenario (Conceptual, not code)**:\n",
        "\n",
        "Imagine a parent class `Animal` with a method `speak()`.\n",
        "Subclasses like `Dog` and `Cat` inherit from `Animal` and override `speak()` differently.\n",
        "You can loop over a list of `Animal` objects and call `speak()` without worrying about which specific subclass each object belongs to — Python will call the correct method based on the object’s actual type.\n",
        "\n",
        "---\n",
        "\n",
        "**In summary:**\n",
        "Polymorphism with inheritance in Python allows different subclasses to implement methods in their own way, while still sharing a common interface from the parent class, enabling flexible and reusable code.\n"
      ],
      "metadata": {
        "id": "koagNvL0dzRf"
      }
    },
    {
      "cell_type": "markdown",
      "source": [
        "#Q24.What is method chaining in Python OOP?\n",
        "\n",
        "\n",
        "**Answer:**\n",
        "\n",
        "Method chaining in Python OOP is a programming technique where **multiple methods are called sequentially on the same object** in a single statement. This is made possible by having each method return the **object itself (`self`)**, allowing the next method to be invoked directly on the result.\n",
        "\n",
        "---\n",
        "\n",
        "### **Key Characteristics:**\n",
        "\n",
        "* Each method must return the current object (`self`).\n",
        "* It enables a **fluent and readable coding style**.\n",
        "* Commonly used in scenarios where **multiple operations** need to be applied to the same object in a streamlined manner.\n",
        "\n",
        "---\n",
        "\n",
        "### **Advantages:**\n",
        "\n",
        "* Improves **code readability** by reducing the need for intermediate lines.\n",
        "* Promotes a **cleaner and more expressive** structure.\n",
        "* Enhances **maintainability** in object configuration or transformation tasks.\n",
        "\n",
        "---\n",
        "\n"
      ],
      "metadata": {
        "id": "ipc_imYDeJyX"
      }
    },
    {
      "cell_type": "markdown",
      "source": [
        "#Q25.What is the purpose of the __call__ method in Python?\n",
        "\n",
        "**Answer:**\n",
        "\n",
        "The `__call__` method in Python is a special (dunder) method that allows an **instance of a class** to be **called like a function**. When an object of a class with a `__call__` method is called, Python automatically invokes the `__call__` method, just as it would call a normal function.\n",
        "\n",
        "---\n",
        "\n",
        "### **Purpose and Use Cases:**\n",
        "\n",
        "1. **Making objects callable**:\n",
        "   The `__call__` method allows an object to **behave like a function**. This can be useful in scenarios where you want objects to have behavior similar to functions but still retain object-oriented features.\n",
        "\n",
        "2. **Function Objects**:\n",
        "   It's commonly used in **function objects** or **callables**, where you want to encapsulate a function's behavior within a class, but still invoke it directly using parentheses.\n",
        "\n",
        "3. **Decorator Patterns**:\n",
        "   It is often used in implementing **decorators** that need to perform some action when the object is called. This can simplify certain patterns, especially in libraries and frameworks.\n",
        "\n",
        "4. **Stateful Callable Objects**:\n",
        "   Since the `__call__` method can access and modify the state of the object, it enables creating objects that maintain internal state while still being callable.\n",
        "\n",
        "---\n",
        "\n",
        "### **In summary:**\n",
        "\n",
        "The `__call__` method is used to make an object **callable** like a function. It provides the ability to define custom behavior when an object is invoked directly, enabling more flexible and expressive coding patterns.\n"
      ],
      "metadata": {
        "id": "88PvVtTJe4ZS"
      }
    },
    {
      "cell_type": "markdown",
      "source": [
        "##Practical Questions"
      ],
      "metadata": {
        "id": "Yq9EkV2nMGrQ"
      }
    },
    {
      "cell_type": "markdown",
      "source": [
        "#Q1. Create a parent class Animal with a method speak() that prints a generic message. Create a child class Dog\n",
        "that overrides the speak() method to print \"Bark!\"."
      ],
      "metadata": {
        "id": "3rg_Y8HZMeTY"
      }
    },
    {
      "cell_type": "code",
      "source": [
        "# Parent class\n",
        "class Animal:\n",
        "    def speak(self):\n",
        "        print(\"The animal makes a sound.\")\n",
        "\n",
        "# Child class\n",
        "class Dog(Animal):\n",
        "    def speak(self):\n",
        "        print(\"Bark!\")\n",
        "\n",
        "# Practical use\n",
        "def main():\n",
        "    generic_animal = Animal()\n",
        "    dog = Dog()\n",
        "\n",
        "    # Calling speak method on parent class object\n",
        "    print(\"Generic Animal says:\")\n",
        "    generic_animal.speak()  # Output: The animal makes a sound.\n",
        "\n",
        "    # Calling speak method on child class object\n",
        "    print(\"\\nDog says:\")\n",
        "    dog.speak()\n",
        "\n",
        "if __name__ == \"__main__\":\n",
        "    main()\n"
      ],
      "metadata": {
        "colab": {
          "base_uri": "https://localhost:8080/"
        },
        "id": "sBqEaXnfMnPN",
        "outputId": "66086dd1-df08-4fba-edb6-2a8c6a6825f2"
      },
      "execution_count": 20,
      "outputs": [
        {
          "output_type": "stream",
          "name": "stdout",
          "text": [
            "Generic Animal says:\n",
            "The animal makes a sound.\n",
            "\n",
            "Dog says:\n",
            "Bark!\n"
          ]
        }
      ]
    },
    {
      "cell_type": "markdown",
      "source": [
        "#Q2. Write a program to create an abstract class Shape with a method area(). Derive classes Circle and Rectangle\n",
        "from it and implement the area() method in both."
      ],
      "metadata": {
        "id": "jsovPSWvNbX7"
      }
    },
    {
      "cell_type": "code",
      "source": [
        "from abc import ABC, abstractmethod\n",
        "import math\n",
        "\n",
        "class Shape(ABC):\n",
        "    @abstractmethod\n",
        "    def area(self):\n",
        "        pass\n",
        "\n",
        "class Circle(Shape):\n",
        "    def __init__(self, r):\n",
        "        self.r = r\n",
        "    def area(self):\n",
        "        return math.pi * self.r ** 2\n",
        "\n",
        "class Rectangle(Shape):\n",
        "    def __init__(self, l, w):\n",
        "        self.l = l\n",
        "        self.w = w\n",
        "    def area(self):\n",
        "        return self.l * self.w\n",
        "\n",
        "# Test\n",
        "c = Circle(3)\n",
        "r = Rectangle(4, 5)\n",
        "print(\"Circle Area:\", c.area())\n",
        "print(\"Rectangle Area:\", r.area())\n"
      ],
      "metadata": {
        "colab": {
          "base_uri": "https://localhost:8080/"
        },
        "id": "OmoowjkUNQaw",
        "outputId": "5874c31c-e462-4e81-f0f0-60cb0496e97b"
      },
      "execution_count": 21,
      "outputs": [
        {
          "output_type": "stream",
          "name": "stdout",
          "text": [
            "Circle Area: 28.274333882308138\n",
            "Rectangle Area: 20\n"
          ]
        }
      ]
    },
    {
      "cell_type": "markdown",
      "source": [
        "#Q3. Implement a multi-level inheritance scenario where a class Vehicle has an attribute type. Derive a class Car\n",
        "and further derive a class ElectricCar that adds a battery attribute."
      ],
      "metadata": {
        "id": "hVUEYIgSOt43"
      }
    },
    {
      "cell_type": "code",
      "source": [
        "# Base class\n",
        "class Vehicle:\n",
        "    def __init__(self, v_type):\n",
        "        self.type = v_type\n",
        "\n",
        "# Derived class\n",
        "class Car(Vehicle):\n",
        "    def __init__(self, v_type, brand):\n",
        "        super().__init__(v_type)\n",
        "        self.brand = brand\n",
        "\n",
        "# Further derived class\n",
        "class ElectricCar(Car):\n",
        "    def __init__(self, v_type, brand, battery):\n",
        "        super().__init__(v_type, brand)\n",
        "        self.battery = battery\n",
        "\n",
        "    def display(self):\n",
        "        print(f\"Type: {self.type}, Brand: {self.brand}, Battery: {self.battery}kWh\")\n",
        "\n",
        "# Test\n",
        "e_car = ElectricCar(\"Four-Wheeler\", \"Tesla\", 75)\n",
        "e_car.display()\n"
      ],
      "metadata": {
        "colab": {
          "base_uri": "https://localhost:8080/"
        },
        "id": "yrK1wH8wO9y9",
        "outputId": "85b3c3d3-22d9-4f9f-9a53-c04b2cefaf93"
      },
      "execution_count": 4,
      "outputs": [
        {
          "output_type": "stream",
          "name": "stdout",
          "text": [
            "Type: Four-Wheeler, Brand: Tesla, Battery: 75kWh\n"
          ]
        }
      ]
    },
    {
      "cell_type": "markdown",
      "source": [
        "#Q4. Demonstrate polymorphism by creating a base class Bird with a method fly(). Create two derived classes\n",
        "Sparrow and Penguin that override the fly() method.\n"
      ],
      "metadata": {
        "id": "fJsd2jFDPOcl"
      }
    },
    {
      "cell_type": "code",
      "source": [
        "# Base class\n",
        "class Bird:\n",
        "    def fly(self):\n",
        "        print(\"Some bird is flying...\")\n",
        "\n",
        "# Derived class\n",
        "class Sparrow(Bird):\n",
        "    def fly(self):\n",
        "        print(\"Sparrow flies high in the sky.\")\n",
        "\n",
        "# Derived class\n",
        "class Penguin(Bird):\n",
        "    def fly(self):\n",
        "        print(\"Penguins cannot fly, they swim.\")\n",
        "\n",
        "# Polymorphism in action\n",
        "def show_flight(bird):\n",
        "    bird.fly()\n",
        "\n",
        "# Test\n",
        "b1 = Sparrow()\n",
        "b2 = Penguin()\n",
        "\n",
        "show_flight(b1)\n",
        "show_flight(b2)\n"
      ],
      "metadata": {
        "colab": {
          "base_uri": "https://localhost:8080/"
        },
        "id": "BfPcVrpTP8kY",
        "outputId": "e9fb66e9-7c86-47f0-9fcb-6744391c986d"
      },
      "execution_count": 5,
      "outputs": [
        {
          "output_type": "stream",
          "name": "stdout",
          "text": [
            "Sparrow flies high in the sky.\n",
            "Penguins cannot fly, they swim.\n"
          ]
        }
      ]
    },
    {
      "cell_type": "markdown",
      "source": [
        "#Q5. Write a program to demonstrate encapsulation by creating a class BankAccount with private attributes\n",
        "balance and methods to deposit, withdraw, and check balance."
      ],
      "metadata": {
        "id": "PLPlPqqKQDSz"
      }
    },
    {
      "cell_type": "code",
      "source": [
        "class BankAccount:\n",
        "    def __init__(self):\n",
        "        self.__balance = 0  # Private attribute\n",
        "\n",
        "    def deposit(self, amount):\n",
        "        if amount > 0:\n",
        "            self.__balance += amount\n",
        "            print(f\"Deposited: ₹{amount}\")\n",
        "        else:\n",
        "            print(\"Invalid deposit amount.\")\n",
        "\n",
        "    def withdraw(self, amount):\n",
        "        if 0 < amount <= self.__balance:\n",
        "            self.__balance -= amount\n",
        "            print(f\"Withdrawn: ₹{amount}\")\n",
        "        else:\n",
        "            print(\"Insufficient balance or invalid amount.\")\n",
        "\n",
        "    def check_balance(self):\n",
        "        print(f\"Current Balance: ₹{self.__balance}\")\n",
        "\n",
        "# Test\n",
        "account = BankAccount()\n",
        "account.deposit(1000)\n",
        "account.withdraw(500)\n",
        "account.check_balance()\n"
      ],
      "metadata": {
        "colab": {
          "base_uri": "https://localhost:8080/"
        },
        "id": "5etb6oRcP9lA",
        "outputId": "b780e873-76b1-4d2f-8110-f05b2737b753"
      },
      "execution_count": 6,
      "outputs": [
        {
          "output_type": "stream",
          "name": "stdout",
          "text": [
            "Deposited: ₹1000\n",
            "Withdrawn: ₹500\n",
            "Current Balance: ₹500\n"
          ]
        }
      ]
    },
    {
      "cell_type": "code",
      "source": [],
      "metadata": {
        "id": "Nu7Ca4tjQrFT"
      },
      "execution_count": null,
      "outputs": []
    },
    {
      "cell_type": "markdown",
      "source": [
        "#Q6. Demonstrate runtime polymorphism using a method play() in a base class Instrument. Derive classes Guitar\n",
        "and Piano that implement their own version of play()."
      ],
      "metadata": {
        "id": "Mz0dwMuaQXwo"
      }
    },
    {
      "cell_type": "code",
      "source": [
        "# Base class\n",
        "class Instrument:\n",
        "    def play(self):\n",
        "        print(\"Playing an instrument.\")\n",
        "\n",
        "# Derived class\n",
        "class Guitar(Instrument):\n",
        "    def play(self):\n",
        "        print(\"Strumming the guitar.\")\n",
        "\n",
        "# Derived class\n",
        "class Piano(Instrument):\n",
        "    def play(self):\n",
        "        print(\"Playing the piano keys.\")\n",
        "\n",
        "# Runtime polymorphism\n",
        "def start_music(instrument):\n",
        "    instrument.play()\n",
        "\n",
        "# Test\n",
        "i1 = Guitar()\n",
        "i2 = Piano()\n",
        "\n",
        "start_music(i1)\n",
        "start_music(i2)\n"
      ],
      "metadata": {
        "colab": {
          "base_uri": "https://localhost:8080/"
        },
        "id": "eF7oZbEBQ9rI",
        "outputId": "cc2e259e-9ea0-41e8-fe8b-fc5964f9f0b0"
      },
      "execution_count": 7,
      "outputs": [
        {
          "output_type": "stream",
          "name": "stdout",
          "text": [
            "Strumming the guitar.\n",
            "Playing the piano keys.\n"
          ]
        }
      ]
    },
    {
      "cell_type": "markdown",
      "source": [
        "#Q7. Create a class MathOperations with a class method add_numbers() to add two numbers and a static\n",
        "method subtract_numbers() to subtract two numbers."
      ],
      "metadata": {
        "id": "FckB8DznRMEO"
      }
    },
    {
      "cell_type": "code",
      "source": [
        "class MathOperations:\n",
        "\n",
        "    @classmethod\n",
        "    def add_numbers(cls, a, b):\n",
        "        return a + b\n",
        "\n",
        "    @staticmethod\n",
        "    def subtract_numbers(a, b):\n",
        "        return a - b\n",
        "\n",
        "# Test\n",
        "print(\"Addition:\", MathOperations.add_numbers(10, 5))\n",
        "print(\"Subtraction:\", MathOperations.subtract_numbers(10, 5))\n"
      ],
      "metadata": {
        "colab": {
          "base_uri": "https://localhost:8080/"
        },
        "id": "_nU2xXJ-Reu4",
        "outputId": "f007e779-ca6a-4359-c816-03aafe52015b"
      },
      "execution_count": 8,
      "outputs": [
        {
          "output_type": "stream",
          "name": "stdout",
          "text": [
            "Addition: 15\n",
            "Subtraction: 5\n"
          ]
        }
      ]
    },
    {
      "cell_type": "markdown",
      "source": [
        "#Q8. Implement a class Person with a class method to count the total number of persons created."
      ],
      "metadata": {
        "id": "zfwQNopLRnQ8"
      }
    },
    {
      "cell_type": "code",
      "source": [
        "class Person:\n",
        "    count = 0  # Class variable\n",
        "\n",
        "    def __init__(self, name):\n",
        "        self.name = name\n",
        "        Person.count += 1\n",
        "\n",
        "    @classmethod\n",
        "    def total_persons(cls):\n",
        "        return cls.count\n",
        "\n",
        "# Test\n",
        "p1 = Person(\"Alice\")\n",
        "p2 = Person(\"Bob\")\n",
        "p3 = Person(\"Charlie\")\n",
        "\n",
        "print(\"Total Persons Created:\", Person.total_persons())\n"
      ],
      "metadata": {
        "colab": {
          "base_uri": "https://localhost:8080/"
        },
        "id": "COEbB3jER3TS",
        "outputId": "63e72181-e3a6-4997-c3bf-65709068d4de"
      },
      "execution_count": 9,
      "outputs": [
        {
          "output_type": "stream",
          "name": "stdout",
          "text": [
            "Total Persons Created: 3\n"
          ]
        }
      ]
    },
    {
      "cell_type": "markdown",
      "source": [
        "#Q9. Write a class Fraction with attributes numerator and denominator. Override the str method to display the\n",
        "fraction as \"numerator/denominator\"."
      ],
      "metadata": {
        "id": "GyRYJ6pvQCHS"
      }
    },
    {
      "cell_type": "code",
      "source": [
        "class Fraction:\n",
        "    def __init__(self, numerator, denominator):\n",
        "        self.numerator = numerator\n",
        "        self.denominator = denominator\n",
        "\n",
        "    def __str__(self):\n",
        "        return f\"{self.numerator}/{self.denominator}\"\n",
        "\n",
        "# Test\n",
        "f = Fraction(3, 4)\n",
        "print(f)\n"
      ],
      "metadata": {
        "colab": {
          "base_uri": "https://localhost:8080/"
        },
        "id": "OBUlcH5lSC4l",
        "outputId": "07c8fd2f-6714-4d7f-deaf-4b54cd1e8256"
      },
      "execution_count": 10,
      "outputs": [
        {
          "output_type": "stream",
          "name": "stdout",
          "text": [
            "3/4\n"
          ]
        }
      ]
    },
    {
      "cell_type": "markdown",
      "source": [
        "#Q10. Demonstrate operator overloading by creating a class Vector and overriding the add method to add two\n",
        "vectors."
      ],
      "metadata": {
        "id": "E-HxFt2nSMAE"
      }
    },
    {
      "cell_type": "code",
      "source": [
        "class Vector:\n",
        "    def __init__(self, x, y):\n",
        "        self.x = x\n",
        "        self.y = y\n",
        "\n",
        "    # Overloading the + operator to add two vectors\n",
        "    def __add__(self, other):\n",
        "        return Vector(self.x + other.x, self.y + other.y)\n",
        "\n",
        "    def __str__(self):\n",
        "        return f\"({self.x}, {self.y})\"\n",
        "\n",
        "# Test\n",
        "v1 = Vector(3, 4)\n",
        "v2 = Vector(1, 2)\n",
        "\n",
        "v3 = v1 + v2  # Using overloaded + operator\n",
        "\n",
        "print(\"Vector 1:\", v1)\n",
        "print(\"Vector 2:\", v2)\n",
        "print(\"Sum of Vectors:\", v3)\n"
      ],
      "metadata": {
        "colab": {
          "base_uri": "https://localhost:8080/"
        },
        "id": "0xwf0IPSSJfJ",
        "outputId": "aefb43e4-d7f4-4fad-ac2a-91fe7d08f4dd"
      },
      "execution_count": 11,
      "outputs": [
        {
          "output_type": "stream",
          "name": "stdout",
          "text": [
            "Vector 1: (3, 4)\n",
            "Vector 2: (1, 2)\n",
            "Sum of Vectors: (4, 6)\n"
          ]
        }
      ]
    },
    {
      "cell_type": "markdown",
      "source": [
        "#Q11. Create a class Person with attributes name and age. Add a method greet() that prints \"Hello, my name is\n",
        "{name} and I am {age} years old.\""
      ],
      "metadata": {
        "id": "qSC4Ve-ASeFM"
      }
    },
    {
      "cell_type": "code",
      "source": [
        "class Person:\n",
        "    def __init__(self, name, age):\n",
        "        self.name = name\n",
        "        self.age = age\n",
        "\n",
        "    def greet(self):\n",
        "        print(f\"Hello, my name is {self.name} and I am {self.age} years old.\")\n",
        "\n",
        "# Test\n",
        "person1 = Person(\"Alice\", 30)\n",
        "person1.greet()\n"
      ],
      "metadata": {
        "colab": {
          "base_uri": "https://localhost:8080/"
        },
        "id": "BPLBJZ7qSX8O",
        "outputId": "f0746364-852c-4e39-8f3d-b8cfd12e4067"
      },
      "execution_count": 12,
      "outputs": [
        {
          "output_type": "stream",
          "name": "stdout",
          "text": [
            "Hello, my name is Alice and I am 30 years old.\n"
          ]
        }
      ]
    },
    {
      "cell_type": "markdown",
      "source": [
        "#Q12. Implement a class Student with attributes name and grades. Create a method average_grade() to compute\n",
        "the average of the grades.\n"
      ],
      "metadata": {
        "id": "4lxWldvBS3Go"
      }
    },
    {
      "cell_type": "code",
      "source": [
        "class Student:\n",
        "    def __init__(self, name, grades):\n",
        "        self.name = name\n",
        "        self.grades = grades\n",
        "\n",
        "    def average_grade(self):\n",
        "        return sum(self.grades) / len(self.grades) if self.grades else 0\n",
        "\n",
        "# Test\n",
        "student1 = Student(\"Alice\", [85, 90, 78, 92])\n",
        "print(f\"{student1.name}'s average grade: {student1.average_grade():.2f}\")\n"
      ],
      "metadata": {
        "colab": {
          "base_uri": "https://localhost:8080/"
        },
        "id": "21qPuZNXSozs",
        "outputId": "9d3b3137-0e47-49e6-83fe-8c335df1c6cf"
      },
      "execution_count": 13,
      "outputs": [
        {
          "output_type": "stream",
          "name": "stdout",
          "text": [
            "Alice's average grade: 86.25\n"
          ]
        }
      ]
    },
    {
      "cell_type": "markdown",
      "source": [
        "#Q13. Create a class Rectangle with methods set_dimensions() to set the dimensions and area() to calculate the\n",
        "area"
      ],
      "metadata": {
        "id": "MTnOPL9aTGfh"
      }
    },
    {
      "cell_type": "code",
      "source": [
        "class Rectangle:\n",
        "    def __init__(self):\n",
        "        self.length = 0\n",
        "        self.width = 0\n",
        "\n",
        "    def set_dimensions(self, length, width):\n",
        "        self.length = length\n",
        "        self.width = width\n",
        "\n",
        "    def area(self):\n",
        "        return self.length * self.width\n",
        "\n",
        "# Test\n",
        "rectangle = Rectangle()\n",
        "rectangle.set_dimensions(5, 3)\n",
        "print(f\"Area of Rectangle: {rectangle.area()}\")\n"
      ],
      "metadata": {
        "colab": {
          "base_uri": "https://localhost:8080/"
        },
        "id": "DY25ZcYvS-4y",
        "outputId": "3010af0b-bd30-4ed9-da69-f7448322e322"
      },
      "execution_count": 14,
      "outputs": [
        {
          "output_type": "stream",
          "name": "stdout",
          "text": [
            "Area of Rectangle: 15\n"
          ]
        }
      ]
    },
    {
      "cell_type": "markdown",
      "source": [
        "#Q14. Create a class Employee with a method calculate_salary() that computes the salary based on hours worked\n",
        "and hourly rate. Create a derived class Manager that adds a bonus to the salary."
      ],
      "metadata": {
        "id": "rdnF4NhKTZDD"
      }
    },
    {
      "cell_type": "code",
      "source": [
        "# Base class\n",
        "class Employee:\n",
        "    def __init__(self, hours_worked, hourly_rate):\n",
        "        self.hours_worked = hours_worked\n",
        "        self.hourly_rate = hourly_rate\n",
        "\n",
        "    def calculate_salary(self):\n",
        "        return self.hours_worked * self.hourly_rate\n",
        "\n",
        "# Derived class\n",
        "class Manager(Employee):\n",
        "    def __init__(self, hours_worked, hourly_rate, bonus):\n",
        "        super().__init__(hours_worked, hourly_rate)\n",
        "        self.bonus = bonus\n",
        "\n",
        "    def calculate_salary(self):\n",
        "        base_salary = super().calculate_salary()\n",
        "        return base_salary + self.bonus\n",
        "\n",
        "# Test\n",
        "employee = Employee(40, 20)\n",
        "manager = Manager(40, 20, 500)\n",
        "\n",
        "print(f\"Employee Salary: ₹{employee.calculate_salary()}\")\n",
        "print(f\"Manager Salary: ₹{manager.calculate_salary()}\")\n"
      ],
      "metadata": {
        "colab": {
          "base_uri": "https://localhost:8080/"
        },
        "id": "TKhKL2EJTQl_",
        "outputId": "67bb3502-c565-4cef-cccb-8558def47e74"
      },
      "execution_count": 15,
      "outputs": [
        {
          "output_type": "stream",
          "name": "stdout",
          "text": [
            "Employee Salary: ₹800\n",
            "Manager Salary: ₹1300\n"
          ]
        }
      ]
    },
    {
      "cell_type": "markdown",
      "source": [
        "#Q15. Create a class Product with attributes name, price, and quantity. Implement a method total_price() that\n",
        "calculates the total price of the product."
      ],
      "metadata": {
        "id": "Obn8aYexTqVY"
      }
    },
    {
      "cell_type": "code",
      "source": [
        "class Product:\n",
        "    def __init__(self, name, price, quantity):\n",
        "        self.name = name\n",
        "        self.price = price\n",
        "        self.quantity = quantity\n",
        "\n",
        "    def total_price(self):\n",
        "        return self.price * self.quantity\n",
        "\n",
        "# Test\n",
        "product = Product(\"Laptop\", 50000, 2)\n",
        "print(f\"Total Price of {product.name}: ₹{product.total_price()}\")\n"
      ],
      "metadata": {
        "colab": {
          "base_uri": "https://localhost:8080/"
        },
        "id": "MXtnlY0STiNZ",
        "outputId": "a134f6b9-6311-485b-8de7-e9ec5bc03776"
      },
      "execution_count": 16,
      "outputs": [
        {
          "output_type": "stream",
          "name": "stdout",
          "text": [
            "Total Price of Laptop: ₹100000\n"
          ]
        }
      ]
    },
    {
      "cell_type": "markdown",
      "source": [
        "#Q16. Create a class Animal with an abstract method sound(). Create two derived classes Cow and Sheep that\n",
        "implement the sound() method."
      ],
      "metadata": {
        "id": "nnMhUCyNT0Wu"
      }
    },
    {
      "cell_type": "code",
      "source": [
        "from abc import ABC, abstractmethod\n",
        "\n",
        "# Abstract class\n",
        "class Animal(ABC):\n",
        "    @abstractmethod\n",
        "    def sound(self):\n",
        "        pass\n",
        "\n",
        "# Derived class Cow\n",
        "class Cow(Animal):\n",
        "    def sound(self):\n",
        "        print(\"Moo\")\n",
        "\n",
        "# Derived class Sheep\n",
        "class Sheep(Animal):\n",
        "    def sound(self):\n",
        "        print(\"Baa\")\n",
        "\n",
        "# Test\n",
        "cow = Cow()\n",
        "sheep = Sheep()\n",
        "\n",
        "cow.sound()\n",
        "sheep.sound()\n"
      ],
      "metadata": {
        "colab": {
          "base_uri": "https://localhost:8080/"
        },
        "id": "-_bp7ZcfTyjO",
        "outputId": "6edd0d22-4ced-4476-8028-17608570574d"
      },
      "execution_count": 17,
      "outputs": [
        {
          "output_type": "stream",
          "name": "stdout",
          "text": [
            "Moo\n",
            "Baa\n"
          ]
        }
      ]
    },
    {
      "cell_type": "markdown",
      "source": [
        "#Q17. Create a class Book with attributes title, author, and year_published. Add a method get_book_info() that\n",
        "returns a formatted string with the book's details."
      ],
      "metadata": {
        "id": "ahPgFhgUUEn4"
      }
    },
    {
      "cell_type": "code",
      "source": [
        "class Book:\n",
        "    def __init__(self, title, author, year_published):\n",
        "        self.title = title\n",
        "        self.author = author\n",
        "        self.year_published = year_published\n",
        "\n",
        "    def get_book_info(self):\n",
        "        return f\"Title: {self.title}, Author: {self.author}, Year Published: {self.year_published}\"\n",
        "\n",
        "# Test\n",
        "book1 = Book(\"The Great Gatsby\", \"F. Scott Fitzgerald\", 1925)\n",
        "print(book1.get_book_info())\n"
      ],
      "metadata": {
        "colab": {
          "base_uri": "https://localhost:8080/"
        },
        "id": "IK2phEODT-4r",
        "outputId": "a0c21e3f-e9e7-404e-ee19-f01374d0c2c6"
      },
      "execution_count": 18,
      "outputs": [
        {
          "output_type": "stream",
          "name": "stdout",
          "text": [
            "Title: The Great Gatsby, Author: F. Scott Fitzgerald, Year Published: 1925\n"
          ]
        }
      ]
    },
    {
      "cell_type": "markdown",
      "source": [
        "#Q18. Create a class House with attributes address and price. Create a derived class Mansion that adds an\n",
        "attribute number_of_rooms"
      ],
      "metadata": {
        "id": "LyRNCf76Ulc9"
      }
    },
    {
      "cell_type": "code",
      "source": [
        "# Base class\n",
        "class House:\n",
        "    def __init__(self, address, price):\n",
        "        self.address = address\n",
        "        self.price = price\n",
        "\n",
        "# Derived class\n",
        "class Mansion(House):\n",
        "    def __init__(self, address, price, number_of_rooms):\n",
        "        super().__init__(address, price)\n",
        "        self.number_of_rooms = number_of_rooms\n",
        "\n",
        "    def display_details(self):\n",
        "        return f\"Address: {self.address}, Price: ₹{self.price}, Number of Rooms: {self.number_of_rooms}\"\n",
        "\n",
        "# Test\n",
        "mansion = Mansion(\"Beverly Hills, LA\", 10000000, 10)\n",
        "print(mansion.display_details())\n"
      ],
      "metadata": {
        "colab": {
          "base_uri": "https://localhost:8080/"
        },
        "id": "fVEuZrWlUOTG",
        "outputId": "7af3e57e-ac55-4cb2-9745-a2d874df0934"
      },
      "execution_count": 19,
      "outputs": [
        {
          "output_type": "stream",
          "name": "stdout",
          "text": [
            "Address: Beverly Hills, LA, Price: ₹10000000, Number of Rooms: 10\n"
          ]
        }
      ]
    },
    {
      "cell_type": "code",
      "source": [],
      "metadata": {
        "id": "Y5BJs6NeUp9O"
      },
      "execution_count": null,
      "outputs": []
    }
  ]
}